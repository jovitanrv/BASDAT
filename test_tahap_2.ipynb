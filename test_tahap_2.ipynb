{
  "nbformat": 4,
  "nbformat_minor": 0,
  "metadata": {
    "colab": {
      "name": "test_tahap_2.ipynb",
      "provenance": [],
      "collapsed_sections": []
    },
    "kernelspec": {
      "name": "python3",
      "display_name": "Python 3"
    }
  },
  "cells": [
    {
      "cell_type": "code",
      "metadata": {
        "id": "mMDWr-hURqtw",
        "colab_type": "code",
        "colab": {}
      },
      "source": [
        "#import library (anda bebas menggunakan library apapun)\n",
        "import csv\n",
        "import pandas as pd\n",
        "import os\n",
        "import numpy as np\n",
        "from pandas import DataFrame, read_csv\n",
        "import datetime\n",
        "from datetime import datetime\n",
        "import seaborn as sns\n",
        "from datetime import date"
      ],
      "execution_count": 0,
      "outputs": []
    },
    {
      "cell_type": "code",
      "metadata": {
        "id": "eoOhhVnOT6Qj",
        "colab_type": "code",
        "colab": {}
      },
      "source": [
        "#import Dataset\n",
        "\n",
        "#write your code here\n",
        "with open('tahap_2.csv', newline='') as f:\n",
        "    reader = csv.reader(f)\n",
        "    for row in reader:\n",
        "      print(row)\n"
      ],
      "execution_count": 0,
      "outputs": []
    },
    {
      "cell_type": "code",
      "metadata": {
        "id": "9SmDTccrUE43",
        "colab_type": "code",
        "colab": {}
      },
      "source": [
        "#tampilkan hasil dataset yang telah di import\n",
        "\n",
        "#write your code here\n",
        "pd.read_csv('tahap_2.csv')"
      ],
      "execution_count": 0,
      "outputs": []
    },
    {
      "cell_type": "code",
      "metadata": {
        "id": "pwHz8ZM5UfKd",
        "colab_type": "code",
        "colab": {}
      },
      "source": [
        "#tampilkan data 5 teratas\n",
        "\n",
        "#write your code here\n",
        "pd.read_csv('tahap_2.csv').head()"
      ],
      "execution_count": 0,
      "outputs": []
    },
    {
      "cell_type": "code",
      "metadata": {
        "id": "TWRUgq1O9UlF",
        "colab_type": "code",
        "colab": {}
      },
      "source": [
        "# tampilkan data 5 terbawah\n",
        "\n",
        "#write your code here\n",
        "pd.read_csv('tahap_2.csv').tail()"
      ],
      "execution_count": 0,
      "outputs": []
    },
    {
      "cell_type": "code",
      "metadata": {
        "id": "-OurNRNd9Zc6",
        "colab_type": "code",
        "colab": {}
      },
      "source": [
        "#hilangkan baris data yang setiap classnya kosong\n",
        "\n",
        "#write your code here\n",
        "f = pd.read_csv('tahap_2.csv')\n",
        "a = DataFrame.dropna(f, axis=0, how='all', thresh=None, subset=None, inplace=False)\n",
        "print(a)"
      ],
      "execution_count": 0,
      "outputs": []
    },
    {
      "cell_type": "code",
      "metadata": {
        "id": "kipTJQJo-ELl",
        "colab_type": "code",
        "colab": {}
      },
      "source": [
        "# terdapat NaN pada column 'berat_badan' ubah NaN tersebut dengan rata-rata(mean) dari column NaN\n",
        "\n",
        "#write your code here\n",
        "# f = pd.read_csv('tahap_2.csv')\n",
        "\n",
        "b = a['berat_badan'].fillna(a['berat_badan'].mean())\n",
        "\n",
        "print (b)"
      ],
      "execution_count": 0,
      "outputs": []
    },
    {
      "cell_type": "code",
      "metadata": {
        "id": "NGYzxvcDUmIZ",
        "colab_type": "code",
        "colab": {}
      },
      "source": [
        "#masih pada column 'berat_badan' kurangkan 0 di belakang koma hingga menjadi 2 digit saja\n",
        "\n",
        "#write your code here\n",
        "bb = round(b,2)\n",
        "print(bb)"
      ],
      "execution_count": 0,
      "outputs": []
    },
    {
      "cell_type": "code",
      "metadata": {
        "id": "P_-iDPzIX-Bm",
        "colab_type": "code",
        "colab": {}
      },
      "source": [
        "#pada column gender ubah setiap variablenya hanya menjadi 'male' dan female saja\n",
        "#misal cowo -> male , perempuan -> female\n",
        "\n",
        "#write your code here\n",
        "c = a['gender'].replace(to_replace=[\"perempuan\",\"cowo\"],value=[\"female\",\"male\"])\n",
        "print(c)"
      ],
      "execution_count": 0,
      "outputs": []
    },
    {
      "cell_type": "code",
      "metadata": {
        "id": "PSah1nj2b3Q3",
        "colab_type": "code",
        "outputId": "b82e0950-4cd6-4a93-dee2-7b657860a2ab",
        "colab": {
          "base_uri": "https://localhost:8080/",
          "height": 516
        }
      },
      "source": [
        "#ubah format kolom 'birth_date' yang awalnya 'tanggal/bulan/tahun' menjadi 'tahun-bulan-tanggal'\n",
        "#contoh '05/23/2005' -> 2005-5-23\n",
        "\n",
        "#write your code her\n",
        "#print(a['birth_date'])\n",
        "a['birth_date'] = pd.to_datetime(a['birth_date'], format = \"%m/%d/%Y\")\n",
        "d = a['birth_date']\n",
        "print(d)"
      ],
      "execution_count": 136,
      "outputs": [
        {
          "output_type": "stream",
          "text": [
            "0    2005-05-23\n",
            "1    1998-01-23\n",
            "2    2005-06-23\n",
            "3    2000-05-23\n",
            "4    1998-07-22\n",
            "5    2006-05-23\n",
            "6    1999-01-23\n",
            "7    2006-06-23\n",
            "8    2001-05-23\n",
            "9    1999-07-22\n",
            "10   2007-05-23\n",
            "11   2000-01-23\n",
            "12   2007-06-23\n",
            "13   2002-05-23\n",
            "14   2000-07-22\n",
            "15   2008-05-23\n",
            "16   2001-01-23\n",
            "19   2001-07-22\n",
            "20   2009-05-23\n",
            "21   2002-01-23\n",
            "Name: birth_date, dtype: datetime64[ns]\n"
          ],
          "name": "stdout"
        },
        {
          "output_type": "stream",
          "text": [
            "/usr/local/lib/python3.6/dist-packages/ipykernel_launcher.py:1: SettingWithCopyWarning: \n",
            "A value is trying to be set on a copy of a slice from a DataFrame.\n",
            "Try using .loc[row_indexer,col_indexer] = value instead\n",
            "\n",
            "See the caveats in the documentation: http://pandas.pydata.org/pandas-docs/stable/user_guide/indexing.html#returning-a-view-versus-a-copy\n",
            "  \"\"\"Entry point for launching an IPython kernel.\n"
          ],
          "name": "stderr"
        }
      ]
    },
    {
      "cell_type": "code",
      "metadata": {
        "id": "UdngJVEW49eW",
        "colab_type": "code",
        "colab": {}
      },
      "source": [
        "#tampilkan lagi hasil akhir dari dataset yang telah di ubah\n",
        "\n",
        "#write your code here\n",
        "a['berat_badan'] = bb\n",
        "a['gender'] = c\n",
        "a['birth_date'] = d\n",
        "print(a)"
      ],
      "execution_count": 0,
      "outputs": []
    },
    {
      "cell_type": "markdown",
      "metadata": {
        "id": "LLvpB7FRr7cp",
        "colab_type": "text"
      },
      "source": [
        "The final result should be like this\n",
        "\n",
        "![image.png](data:image/png;base64,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)"
      ]
    },
    {
      "cell_type": "markdown",
      "metadata": {
        "id": "lz_v6ZgPsezi",
        "colab_type": "text"
      },
      "source": [
        "Soal tambahan hehe\n",
        "\n",
        "\n",
        "---\n",
        "boleh dikerjakan boleh tidak\n"
      ]
    },
    {
      "cell_type": "code",
      "metadata": {
        "id": "zEIw1lJUsus6",
        "colab_type": "code",
        "colab": {
          "base_uri": "https://localhost:8080/",
          "height": 787
        },
        "outputId": "32363bb1-c6c8-450d-f6bd-c50e8745a9e8"
      },
      "source": [
        "#buat data frame baru dengan nama data frame 'umur', dengan data frame yang berisi class 'nama' dan 'umur' lalu tampilkan\n",
        "#write your code here\n",
        "\n",
        "now = datetime.now()\n",
        "nowStr = str(now.month)+ \"/\" + str(now.day)+ \"/\" + str(now.year)\n",
        "year = now.year\n",
        "age = []\n",
        "\n",
        "for x in d:\n",
        "  xStr = str(x.year)+ \"/\" + str(x.month)+ \"/\" + str(x.day)\n",
        "  umur = now.year - x.year\n",
        "  age.append(umur)\n",
        "  # print(x.year)\n",
        "\n",
        "# print(age)\n",
        "a['age'] = age\n",
        "a[['nama', 'age']]"
      ],
      "execution_count": 134,
      "outputs": [
        {
          "output_type": "stream",
          "text": [
            "/usr/local/lib/python3.6/dist-packages/ipykernel_launcher.py:14: SettingWithCopyWarning: \n",
            "A value is trying to be set on a copy of a slice from a DataFrame.\n",
            "Try using .loc[row_indexer,col_indexer] = value instead\n",
            "\n",
            "See the caveats in the documentation: http://pandas.pydata.org/pandas-docs/stable/user_guide/indexing.html#returning-a-view-versus-a-copy\n",
            "  \n"
          ],
          "name": "stderr"
        },
        {
          "output_type": "execute_result",
          "data": {
            "text/html": [
              "<div>\n",
              "<style scoped>\n",
              "    .dataframe tbody tr th:only-of-type {\n",
              "        vertical-align: middle;\n",
              "    }\n",
              "\n",
              "    .dataframe tbody tr th {\n",
              "        vertical-align: top;\n",
              "    }\n",
              "\n",
              "    .dataframe thead th {\n",
              "        text-align: right;\n",
              "    }\n",
              "</style>\n",
              "<table border=\"1\" class=\"dataframe\">\n",
              "  <thead>\n",
              "    <tr style=\"text-align: right;\">\n",
              "      <th></th>\n",
              "      <th>nama</th>\n",
              "      <th>age</th>\n",
              "    </tr>\n",
              "  </thead>\n",
              "  <tbody>\n",
              "    <tr>\n",
              "      <th>0</th>\n",
              "      <td>eric</td>\n",
              "      <td>15</td>\n",
              "    </tr>\n",
              "    <tr>\n",
              "      <th>1</th>\n",
              "      <td>ihsan</td>\n",
              "      <td>22</td>\n",
              "    </tr>\n",
              "    <tr>\n",
              "      <th>2</th>\n",
              "      <td>agam</td>\n",
              "      <td>15</td>\n",
              "    </tr>\n",
              "    <tr>\n",
              "      <th>3</th>\n",
              "      <td>daus</td>\n",
              "      <td>20</td>\n",
              "    </tr>\n",
              "    <tr>\n",
              "      <th>4</th>\n",
              "      <td>aurel</td>\n",
              "      <td>22</td>\n",
              "    </tr>\n",
              "    <tr>\n",
              "      <th>5</th>\n",
              "      <td>faiq</td>\n",
              "      <td>14</td>\n",
              "    </tr>\n",
              "    <tr>\n",
              "      <th>6</th>\n",
              "      <td>azzam</td>\n",
              "      <td>21</td>\n",
              "    </tr>\n",
              "    <tr>\n",
              "      <th>7</th>\n",
              "      <td>iqbal</td>\n",
              "      <td>14</td>\n",
              "    </tr>\n",
              "    <tr>\n",
              "      <th>8</th>\n",
              "      <td>imad</td>\n",
              "      <td>19</td>\n",
              "    </tr>\n",
              "    <tr>\n",
              "      <th>9</th>\n",
              "      <td>budi</td>\n",
              "      <td>21</td>\n",
              "    </tr>\n",
              "    <tr>\n",
              "      <th>10</th>\n",
              "      <td>setiawan</td>\n",
              "      <td>13</td>\n",
              "    </tr>\n",
              "    <tr>\n",
              "      <th>11</th>\n",
              "      <td>sifa</td>\n",
              "      <td>20</td>\n",
              "    </tr>\n",
              "    <tr>\n",
              "      <th>12</th>\n",
              "      <td>safi</td>\n",
              "      <td>13</td>\n",
              "    </tr>\n",
              "    <tr>\n",
              "      <th>13</th>\n",
              "      <td>abdul</td>\n",
              "      <td>18</td>\n",
              "    </tr>\n",
              "    <tr>\n",
              "      <th>14</th>\n",
              "      <td>maimunah</td>\n",
              "      <td>20</td>\n",
              "    </tr>\n",
              "    <tr>\n",
              "      <th>15</th>\n",
              "      <td>bukhori</td>\n",
              "      <td>12</td>\n",
              "    </tr>\n",
              "    <tr>\n",
              "      <th>16</th>\n",
              "      <td>somad</td>\n",
              "      <td>19</td>\n",
              "    </tr>\n",
              "    <tr>\n",
              "      <th>19</th>\n",
              "      <td>indira</td>\n",
              "      <td>19</td>\n",
              "    </tr>\n",
              "    <tr>\n",
              "      <th>20</th>\n",
              "      <td>dwi</td>\n",
              "      <td>11</td>\n",
              "    </tr>\n",
              "    <tr>\n",
              "      <th>21</th>\n",
              "      <td>eric</td>\n",
              "      <td>18</td>\n",
              "    </tr>\n",
              "  </tbody>\n",
              "</table>\n",
              "</div>"
            ],
            "text/plain": [
              "        nama  age\n",
              "0       eric   15\n",
              "1      ihsan   22\n",
              "2       agam   15\n",
              "3       daus   20\n",
              "4      aurel   22\n",
              "5       faiq   14\n",
              "6      azzam   21\n",
              "7      iqbal   14\n",
              "8       imad   19\n",
              "9       budi   21\n",
              "10  setiawan   13\n",
              "11      sifa   20\n",
              "12      safi   13\n",
              "13     abdul   18\n",
              "14  maimunah   20\n",
              "15   bukhori   12\n",
              "16     somad   19\n",
              "19    indira   19\n",
              "20       dwi   11\n",
              "21      eric   18"
            ]
          },
          "metadata": {
            "tags": []
          },
          "execution_count": 134
        }
      ]
    },
    {
      "cell_type": "markdown",
      "metadata": {
        "id": "cbIorPdUtuKK",
        "colab_type": "text"
      },
      "source": [
        "\n",
        "\n",
        "it should be like this\n",
        "\n",
        "![image.png](data:image/png;base64,iVBORw0KGgoAAAANSUhEUgAAAJ8AAAKLCAYAAADow1pEAAAgAElEQVR4Ae2dv04sV/a2f7cydzE3MDdATkTihGASJ0aOmGRsEeETGJ3EEhoxR0JHsgYJIRGABAEEEMz19Ken9b09i8Xu6uru2lXV1W+AdlXtf+vPs95dcNzt//vrX/86849jMAQD/zfEpt7TsMOA4bPyD3byGT7DZ/h8FO/fUWzls/JZ+ax8Vr7BqsDwGT7D52O4Nwb8zmfYeoMtn26Gz/AZvlwVvp/+O6CVz8pn5dslpbu5uZk9PDzM7u7uZv/973/nP5eXl4skHh0dzV5eXhZ9XPPs5ORk/lzzaFmHNeJ81te6tGdnZ4u1t4nTMru0JjbEfbnGvoODg/n+sf/t7W3uj+Zu0lr5NlA+wUFL0GkFGPf//ve/57BxDXAkijHxGqAEFn1KMs8FG0nneVx7kyRrzjK76I/2cJ99EniyLfdrj3Vaw7chfBEIErFMCaQ2QPTLL7/MxwkwrRHhy8lrWjuPXec+2gXkwCV7WCfeqwhUIPRnWNfZW2MNXwX4lJh4hLWFT1DEucvAVhLbtsvsAi76tE+GrWST7GNe2/3zOMPXMXzxaCXYSlwb+H744YdPx2xXytdkl+ATULQCER8yjBmiTe8NXyX4OLZIit6V1oFPx5uAiSBsmmitVbILuJqO/ujHNkqXbTd8HcNHgEmkVIRrJbbNO188GnkH+/r16wcVyglc536ZXcAnOGV3Vr/sF/3xHXEdOzTW8G0An4I3lbZ0rOp1AWBr+Wn4DN+H91JABDYpoeEzINXUR6om2OKxWxM89rXyGezqYAvw3Bo+w2f4clX43v9Vy2BVYfgMn+HzsVyNAb/zGa5qcK06vQyf4TN8q6rE/dN7B/ykfH/5y19m/nEMumKgSTQ+wfe3v/1t5h/HoCsGDJ8LajBBMXyGz/B1JeVeZ3deC6x8Vj4rnxVrdxSrq1xZ+ax8Vr6uqsnr7I6CWvmsfFY+K9buKFZXuaqqfIeHh7PHx8fFRwVvb28Hq7KuAtb3OsfHx7PX19fZ+fn5KGKHHeSU3CoWOc981gObsV1jSm01+EoGYdTV1VWjQSUj/Wwcqgh45DDDd3p6Oru/v/8AZJucVYMPg97f3xeG5vs2xk11jJKoT4NFVeN0uL6+nseO+P3+++8flE9KqLl9nCbaE3uALMOH/ZvYUQ0+BVhKJyVsI8dThQ6/iEuMAUXJPS39JDH2K/HMUwxzTHVfK27YcHFxMbePvTJ8PHt+fl68XkX7m2yqBh8GxWNWgaN6FOgmw6bYpxgAUvSPWEk5aHXNmAhfBjeu0dd1CT7sjUAypg2Ahq/HP7UIJB2ZsRVwTfCVEt8XdNqnjQ0qMsZqXqmtBh9VWlK+NhVRMnQKzwRfVr7o2xTgwx/8GAy+/AtGvo8B35frNorQBN8Yj91SQcnPpiIj59WUTwbEoyUq4b4Al/0kIfG9V3GSSjTBl8eydh6f9+v6vnTsYkN+54v3y2yoBh8bKlgCECOXGbJPz0mgYpILMsOUlUX3mt8myV3GtgQf62O3bGr7alUVvi6d9lrj+ENzl3kwfD3+tttl4qawluEzfIO9Chk+w2f4pnCM2If13kutfFY+K59VYz3VmEK8rHxWPivfFCrZPqyn3lY+K5+Vz6qxnmpMIV5rKV/TYPdN7wsah8zpp+/nG9IY771fcBs+fydz439zV1MQDJ/hM3w1K8xrj/M4t/JZ+ax8VqdxqlPNvFj5rHxWvpoV5rXHqapWPivf7ivf2dnZ/JNNl5eXgzlTU+Hw6+HhYXZwcDDjfwn/8vIyb2vu2ffa+KhPp729vX3yj//tvfrx/+joaKtcd6J80aipwhdBmCJ85C0ChZjEe3Ks4iMWsRhjbNa53go+VACDqIanp6e9U767u7uFEsTEoAgkTipB4mJSYrEyJvZz/f379w/zASHO7/paeYzCoWfsLX+iHTwj5xTipvZsDR8JwAAMI5DRgU2NGuO8WOn4y7EkaJQcxihpikO+Z04EVXFTYumPRx7rRAXqKzbySXblfbtQ/63giwYpiAp67JvCNX4JmlLggYafDNsq33OStY7mlfZSX802+lvaJ9tZGrPqmeFr+dtuTEYJiJgMFSIngYDNiWA9Hcu0Upi4DnNKe+W1ur7Htqi+eX1s7EKNDV8F+JQswCGJwEXCeC7olLyxKV9f4BELw1cRPkGIqgHbjz/+OFdCqRz9Y4KvSdH0OrFMyeXrOq3h6xg+JQkFUSJ0lOY+3Y/h2MVeqbHsji0+dAkeaxu+juEjqPG4BayYtNz35cuXeb+OZYGqxPfxzif1xdb8A5TZ5jgmqrhsbtt2Bl/bDT1unP/OOkReDF9L5RsiOVPf0/AZvsW7ad+wGz7DZ/j6rjrvN/y7p5XPymflsxINr0R958DKZ+Wz8vVddd5veKW18ln5rHxWouGVqO8cfFK+KXwnnH0Yz/cANgFt+PytpVW/tdTwGbCqgDWdNIbP8Bm+pgpx33je07rMhZXPymfl67KivNZuKKWVz8pn5bNa7YZadZknK5+Vb7rKd3t7u/jU0+vr6+z4+HgwZ7us2n1d6/z8fPb4+Dg7PDxc5JFrnsVPrrXJdVXli+DJsGz4viZxF/0GPPKYc3h6ejq7v7//AGQb/6rBh8JBvypA9+/v7zOMbWPcLozBF3xScWX/lDAljSRRlPItF2juu76+XqiK1o5zrq6uFmtpza7bmDvsz/DhY7S77f7V4FNSZJSkWTC2NXDM4+QjwcdO+ajk5H6BqJjQaizz1a/16Bdw9HMPxAKOcX3EE/guLi7mPrJ3tBm7ePb8/LwowLY2VYMPo+KPAqvAx74pXcfkcB39FZzxWfRdChPhi2MzbIwn6UAe16l5Hf3TPtgYgWRMGwB7gU/gRQNl+BRaQaOjV36SFBIRfeRZBIo+xmgubRN8Wpt5Y4Ev+se1iiz7nsdVh2/K4EXoFGhaAbIKPkEnldB6uw4fkJV87xW+KYNHIPFPoCmwET6uo8pJEXima4HG/F2EL9uMHyXfFJ/YVlM+GRWPE67jC3Q0ZBevAUeqhf252Jp+4VCCAJS5ut/FY5diikUYC7Apr9XgUyKmDB+BJfDykQTwW2EssBgH+vlThYATnJrPXMZILWl1LbhjkinwMfzCkeMQC3IQ+Jo23ec+YBJ8+xwHfK+mfPseWPzPxw9Khyr0+aeRMefB8KW/R3aZrPgex9Eaj+Mu99nVtQxfRfh2FYq+7DZ8hu/DH8H7Ao99DJ/hM3x9Vpz3+vjv7kPFw8pn5bPyDVV93nc4FbTyWfmsfFag4RRoqNivpXxNg923f9+hVzPnn74ireZmXtvwRgYMn78Wt/EPwRGWrq8Nn+EzfF1Xldcb/xFv5bPyWfmsVONXqq5zZOWz8ln5uq4qrzd+JbXyWfl2V/mOjo5mLy8vi093XV5eDubMkGp3c3Mz42dIG7bdm9zpU3Zvb2+zk5OTD/7EfnJO7rfZcyvlOzg4mD08PCwMluH7COCuw0fOIlBnZ2eN94wn9zCwKYBbwUdlUCEyAoMBcNcVoE0w5Tv+kjRiEP3mWsWYY5JBZS3WkNJEhSkpUBv71hkjEYmioWfkVNexH9V7enpa2LzOfhq7FXxaRK3go9WzKbYCT37Kb8FHq4LEf/VrfBN8jGlSoL7iqdcp7InX2r8EpPratp3BR0CpcAW4rQG7OK505GSgol85eXlsVL4MX1ynz+vo4zKVw4+ohuva1xl8bKwgx6pf16BdGJ/hwWaSwPNoP8/i0avCzPMjfFIUzdOcuG7ta+yOx/0o4VNwaQmIAhcNrx2oIdbP8GADMRB8iouOTxWlQMrzI3zRH8YBYZ/xxPa8X7YfG5Vr5T7a3fZ6K+XTu4+CnO/bGrFr4wh4VncBpaQINHzLydNY+b0MPvq13jZJ1j6rWuxSLuPYkg3L1DDOW3W9FXwySkeEWpxYtfEu92eYAA3f8VsxESy6p19A0heTzDypDWNiXxOYXcYw25TXznYxPhdgnrPqfiv4WDwGVwlYtekU+qXy+EwS7u7uFsdu7KP/y5cv8zEqyhyzr1+/fvizBeOYpx9BWytuKibtF1sVEXtzrb5YIJvatTV8m27seeP/t9faOTJ8/rfdwV6RDJ/hM3y1Jd7rj++Yt/JZ+ax8VqbxKVPtnFj5rHxWvtpV5vXHp6xWPiuflc/KND5lqp0TK5+VbzzKN9T3uHnfaX53X5N6flI+QzBNCIbKq+Hz1+L6a3GHqj7vO5yaW/msfFY+K9BwCjRU7K18Vj4r31DV532HU1wrn5XPymcFGk6Bhop9L8oX/4/b5+fng1XaUEGute/x8fHs9fV11kdMr66uFp9OK/0f029vbxf92IRtq/zuBb5oeB+BWuX0VPr7go/8RaDIYbwHvMfHxxkiQ2wZH++Xxbs6fKenpzMqRZ/pnDp8+CdfaWOSiAX3tEoIieNHSfvzzz/nY5jLWvHU4FlMah/waX+Aks16hn0lG3j2/Pz8wU/NjW1V+GQYAbu/v58nZcrw4Vs8kuS/4GoDX5yvJMfER1i1ft8xXbVvyc8Ina6rwkegFEyuVc3afB/aCEspKbE/H1dAFZWOeJF4qcoqCGrFN9uZ94k+5b54Xw0+Agdsqtp9gg/I4qsGvhP0deEjdsQw/6igh4APm7R/BEnX+BpfNfS81FaBT8dFDpruBWTJoF1+FqHTURhVYBP4svLF+PQNX5fg4Yfh6/CPzCRHKidItoEPgJtUpE/4mhRNYtNUKIpHbKvAFzfQNcajfFIEPZ9SC3wxAdzjs4AULDzHbyml+vN8JVX9zIlAar3aMcWupiLAvuh325wavg6VT7Do9YKk5MQBivpJ2PX19QLODB9JFGCaEyFQX034tIf2jy32qoDic12vsqs3+NpWg8ftzz+zGb4Olc+Fs17hGD7Dt/iXi76Lx/AZPsPXd9V5v/WOyBrxsvJZ+ax8NSrLaw6vbk05sPJZ+ax8TRXivnEr2Kb5sfJZ+ax8m1aP5+2uKq6lfE2D3bd/X+BYM+efviKt5mZe2/BGBgyfv5m08T/4jLB0fW34DJ/h67qqvN74j3grn5XPymelGr9SdZ0jK5+Vz8rXdVV5vfErqZXPyre7yndycjJ7e3tbfFqLTzU9PDzMDg4OBnNqaNXDd2JALF5eXmZHR0dLY0EfY87OzpaO6dsfbGnKYVc2b618l5eXH8AzfH+dUZBPT0+N0PUNVNv9AG9VDm9ubuZjti2YreHDEJSPgLd1cMrjlDwSyA/FGZUwPicOWUXy2K9fv85Brh1f2UEu7+7uliqfVLELtd4KvhyoVRUzZeiib1H5FCOKVGMAUgWrpEtFGKcjT3M1VvNrtNjx5cuXuY3YJxviXozh+U8//dTJq8JW8Clwqma1JcOjE1O/jvCVfKUf5aBVDIEvXmsez/uAT/vRLoOP5/yU7Izz215vBR/BIzCCrc9KbevgEOOWwad3JYpUQMVERihlN/28P9KnZ7XbEnzsz3FMjqPN29iyFXyljRVgHSOlMVN/luFTTFSkEbKYyPhcMRoDfAAHeNiHXdFm2blJuxV8AEYVE9xolKp6E4OmMCfCV4InQhYTGa8VhzhWz2q3WfmwgZzqtSq2jN3Unq3gU7CiMRHGTY3a9XkZvviboWKmAtW9ToqY+KFeY6INpVxkm0tj2jzbCj42kCECUCrYZvOpjonw4aNOCGIEdNwDJElW/AQf43VMM57jTr+c9BWvnYGvr4Ds6z5DHLt9xXpr5evL0H3dx/D5H983fqnetmgMn+EbDL5t4R3zfB+7LqzBCsvwGT7DN+bjwbbV+a+irXxWPiuf1aWOuow5rlY+K5+Vb8wVatvqqPIn5fN34e3ud+GNMXdNhWv4/K2lVb+11PAZsKqANSmu4TN8hq+pQtw3zXdNK5+Vz8pndZumujXl1cpn5bPyNVWI+6apilY+K990le/29nbxmU6urWK7qWJXV1eLPL6/v89OT0+LuWRc2zxXVb4Inj4+iXEGcLcAJGevr6+z4+Pjee7Oz88/3CufAnRw+KgMKkRG6/7x8XF2eHi4cwAScBUQrfzCF3yKfer/+eefl/YpkblAY+K4vr6+XqwhxYlzahez/Iv76BkxATzllpgQi+iDwCy11ZRPyYpGlwzYhWf4osRjL+AQ6FKQ1VfyO/cxPxajYqak0h/35R6wtTbjVAR9xlF+yE7g+/XXX+cgYiM/beypBh8BIlAKGNcx0G2MG/OYZUFe9hxfmvroz0nN4zNsjH9+fl76/lUrfuR2WS6zzU02VIcP6OLPMqObjBxLn44X+UOgo20kZZkSrerTmrRSlJxInsf4DQEffkQ1jv5znW3O/fG+GnwEikAqQarqJsOjYWO6jtA1gbHMN+aU+kgkMRKwilHTHkPCtwo8cjYK+JQwwaeX1FISxgRayRaCLj/UH4MsaBinfrXL+hQPgcZ4jdWzuAf9PB8KPmxRkci3UpttLo3Rs2rKxwYYEo8TrmPwZMTYW6CKdnMvVRdE+Jr9aNMnYDWWdccGHza2AU85L8Uix4b7qvDFgO4qeAQp+0FwlZDff/99fqTiX/xB4f/1r38t7eNk0OmgeRcXF3PIlTxaXWPHEMonNZaNsVXhRLCyzbEvX1eFL2/m+93643LtfBk+/9vup9eF2tBpfcNn+AyfqsHt/hzNVj4rn5XPirc/iqdcW/msfFY+VYPb/VFAK5+Vz8pnxdsfxVOurXxWvt1QviZS3Vfne+r2Na6fviJtXwNhv/svLMPnr8Vt/M+eahal4TN8hq9mhXnt/o/UNjG38ln5rHxtKsVjxqlgm+bFymfls/JtWj2et7tqaOWz8u2m8l1eXn74NJc+9fT29jbj/5A9ZVXC94eHh9nBwcFKP29ubmb8bBKPo6Oj2cvLy+zs7Gyj+ZvsyV5NvnVl01bKtwy+TQO9SaB2Yc4uwQd4iEgTfPjDmG0LYiv4cuKBkSqlMnLf1O6z8ikhJOXbt2/z5Ck59JFMYkN/Phk4JXhGX+7vSmVWxV/7YMfd3d1S+KSKXahxZ/ApgCRllaNT6I/w5aITiBE+oNI9rQBU3NTHMQ6oUh5Bof5asWOfL1++zHMXfYv7MQa7fvrpp05eBTqDj4Dvi+qRECXohx9+mCeEeyUqA0Vs+FG/AItz1BfXZlxf8C3bPz/H5q5s6gQ+BXtZMKMDU7nGV1Tgxx9//KQCgktqBXg5NhlIJVRHb9/KF/Mi3/BDz8kxx3GXBdEJfBgbjxUZPOVWCdoWvgidANXaXSZ6nVzE/ZmHHYAHgNzLZhXXOmvHsVvDh2FU6T4duQRQCSoduzk5WeUUM9YggVI5JUZrjwU+nWxS5dhiq+xet90aPgU6B3BdQ3ZtfAQEgGLxAVs8CbjXLxj4yVyNz3O5Z67iqfjyvK8YRd9Ke3Zl09bwqSoUrJKxU3yWE8S9FIFYAJeAAb7v37/PnzEmgkhsBKug47dOjekq0evkIPuW53Zl09bwZcN839070dRjafgq/NtuV8pg+CokZ+pBNXzt/ksbK5+Lq7dfZLLoGD7DZ/hyVfi+3dG1y3Gy8ln5rHy7XMG2fTOVtvJZ+ax8Vo/N1GOX42bls/KNR/n0pX5u9++LHGvkvEmZPylfDQO85v6CbPj8zaS78c2kVqn9VakaubfyWfmsfDUqy2uOW6mtfFY+K59VatwqVSM/Vj4rn5WvRmV5zXGraVXlOz09nb2/vy8+ufX4+Dg7PDwcrNL6gBGfX19fZ7S19+tzL/lyfn4+K+Xx9vZ27TxXg+/4+HieBH1kUC1GyhG32ylT3/ABHnnM8JFTCo6ck9NlgOZ8V4OPwKB6MlT30chszBTuIxBcPz8/z/7444+FKpAoxYJE5nhEBaE/F2vsv7+/70VlJSTkkz2VU/KlPoBT/jjdGBOfqS+2vcMXDY+GTOU6w0fCBJCgE3BK0tXV1TxxjIvxkdIoibFfc1mfdWvGD8AuLi7me2BrtJE+CizaINvk1zLbqsHHhmyu45a2j0Atc7Sv5xk+QFNiSkkhRoIz2xhVJV5rXNxLz2q3GT72i0XBvYpmUPgwKsLHtaq4dpCGWj8CEa+xR/DFGJTg41mMG+PzWqxXUp3afpfgk1+ymbzzMxh8oh8jFChUQEdO7SANtX6EJF5jj5K0DD5BpxhFtctrKab5yKvtdwm+vGfJzzyG+2rHrgKZ4Zv60RshidcEu5QU4kSMSn0RvnitROb19bxm2wa+tnZVgw8DAE1SrDa+rNYM0lBrx8DHa+wpAZbh4z6OJW5Syph4rdV3MUcbFGOKRyIju3SvMaW2GnxslgGcOnjyWb9krAOf5saC5TdMYhYTybUK+fr6upc/tURwSvAJONnVNs9V4YtG+3q7PyhPMX6Gz/9hQdW/ETYVjeEzfIavqULcN80j28pn5bPyWd2mqW5NebXyWfmsfE0V4r5pqqKVz8pn5bO6TVPdmvJq5bPy7YbyNZHqvv37AseaOf/0FWk1N/PahjcyYPj8zaSN/8FnhKXra8Nn+Axf11Xl9cZ/xFv5rHxWPivV+JWq6xxZ+ax8Vr6uq8rrjV9JrXxWvt1VvpOTk9nb29vi01aXl5eDOTOU2uHzw8PD7ODgoBPf43p9/l/L2VefTiOn5LYUU8bd3NwU+0rjlz3bSvkUGBmsFuOWbTjF5xGWLvzrer02NrHny8vLjJwy/uzs7MO91mAceR4cPgyMhgjGLlVATo+5JSFPT0/zHxUgsZHNJComC0Uh0VIWxY25KM7d3d1CSdUX19O6XbUoNjnDD62pZ9pXJxx2Mzb6oznrtlsp3zL4YgWta9AujpcaKHlKlBLXBJ/gynNVwOrXWn3FJ++LT//4xz/mcGZ/NrVpK/gUZFW72qb3hU0NHfM8wBEssjMmKF7TT9ykfECVizWulyHQ+rXbaEPeK/uT+9vebwUfm0QAJcn7CB8JiUGPycvJivDFcZoPkIJ5CPiwqSmH2R/ZvW67NXxxQ70n5EqOY6Z4TbKmAt8q8MjfKOCT6qlK8/0UQSv5VFKvmKB4zfyofGM6drGzjXBkf0oxafNsK+WT0uldT23fL8dtHK05BvjwXX7TxmOL/phUkqd+xZAx2JgLuK9jN9vYFK9RwBeDta/gEQMSpz+PlOIgwNT39evX+Z9lAI35Aox+IP3+/Xuv73xxf9moVkURYRwNfNEoX4//31PHlKOtjt0xOWJbdg98w+f/sODDn4j6LGLDZ/gMX58V573GcURb+ax8Vj6r0TjUqM88WPmsfFa+PivOe41DZa18Vj4rn9VoHGrUZx4+KV/TF/25b/++3HHbnDfBbPj8xZFVvzjS8BmwqoA1qaPhM3yGr6lC3DfN90krn5XPymd1m6a6NeXVymfls/I1VYj7pqmKVj4r37SU7/j4ePb6+jp7fHycHR4eLpzjmmf69NPt7e2ib+zqdn5+/sGfq6urD/djt78r+3IctC7xUF5z3jUmt50rH8aVjMjgaQxGZ6PGeL8s6GO0tZZNym2GixwiNogOeyMqbYSlU/hEP4a8v79/UIbT09MPz/J9rYDldQmKwI8BY5wUW/0KoILOc83B15iEuC7jNDePw2/WoJVtjGUP7peto74///xzPl82ap7WqtEqLuT0/v7+g98SFfzU3tikOOlZqe0cPoyQsTE5SqCMlNFtjCwZvsmzDEK8l81KpuyTvTyP/sS5ABP75CstkD0/Py9UgXmAo33Yl7m0TevgL/0AIHBZq4/4YdvFxcUcruj3shxgJz/L+vW8U/i0qBIZE6Kg0zJOyY3B1PxabVPg6MsBi+A0wZftlf/MkZ+CTYnRXjzXddM69GmuxmFfVlH11WpXxTCeDqts2Cv4BAUBytCTWB1lsZWytIGPxMS5ETj62J+C5DnHF2Cyr8YpWU3rRFDHBp/sb2tXb/ARYBJDYDFSiqDkyvA+Wu2NPdo/q0q2A/uzkutesGgtQS6oNPfXX3+dQ0c/8HHPvtyz36p1so1tk5x92eYeG+X3snUUX+V62bje4CNQqI0Mz/fLDKz5PEKyKqgCiMBik8b//e9/X6iZbI3r8ox7/OaXBSUEkK6vr+fPGKOECVjNA2g9GyN82dfoi3zlWemnN/gU3HgsRSUsGdf1MwEjgEhqVqsYsDh+FXyaF/0UNKVnjMf/PKZpnTHCR45inHSvuDblsDf4MCImgcATzCbjuu7L++f3PqmxCkQqjR2qcM2JAc/z+M2QudE/xseEMId7Wvm5ap2xwof92Ka4RT/lW6mtAl9pIz8rHz37HBfDt+R9ZJ+h6Mt3w2f4Fsd+X9BpH8Nn+AyfqsHt/rwbWvmsfFY+K97+KJ5ybeWz8ln5VA1u90cBrXxWPiufFW9/FE+5Xkv5mga7b/++Q69mzj99RVrNzby24Y0MGD5/La6/FjdWhK/3QyGtfFY+K5/Vbj/ULubZymfls/LFivD1fqiglc/KZ+Wz2u2H2sU8b6x8BwcHs4eHh9nLy8vs6OjoQ/U09cXN9/X65uZmxg/+EztiyKfCiCexGyoul5eXi0+nvb29zU5OTj7YEvtLeV/X7o3gwyiMI2DZiKa+dY3bh/FnZ2eDQ0ecASvmErua7hm/bbGsDR9GAR3wYVw2cFnfPoAUfYxFSExIlvqlfFFJGENsdWpwr584V2t02WrPuI+eRZtiP4r99PT0SR3XsWsj+AiejMvwLetbx6hdH6ujlMThS74XfPQxRgqimNKvGJDw0hGo/lpttDleaz/ZGoFUX9t2bfi0sDaP8LXp05gpt6VkRX+XwRfH6BoFJca0etZHC1QqCvwpqRx+GL4R/rmEpOjYjEoGOG3gY4zm96182B73NHwjBKyNAnGsCiKpRBN8gk6q07fyZfDwsaTkOvnkU5tY5DE+dnuCmiQJqGXwlRSmT/iwq+k1KoJWsjXDtere8FWALytFVokm+Eh+/kUlHoGrErppP2CVwNN62BT7YzFpzLqt4asAH0mIxy3HLsApOcvgy/OATkmPqqN1umpVLI61BVUAABXtSURBVHo9iG3cl2v1RRA3tWNj+Dbd0PP275/RluXc8FVSvmUB9/P/FZ/hM3yL14G+C8PwGT7D13fVeb//HX9DxcLKZ+Wz8g1Vfd53OAW08ln5rHxWoOEUaKjYW/msfFa+oarP+w6nuJ+UT9+r5nb/vkuvRs6bitvw+VtLq35rqeEzYFUBa1JMw2f4DF9Thbhvmu+YVj4rn5XP6jZNdWvKq5XPymfla6oQ901TFa18Vr5pKd/x8fHs9fV19vj4ODs8PPzg3O3t7eJTToxhrJWtvbKdn58v4vef//xnHmee9RVD9irl9erqamFXqb9kX+fKF4OTjYjg6WN2eUzJSD/7H5zEkEQPERPlNucMe6KQYCM/q2zsFD7RjyHv7+8fKkRqKCN1z7jT09OVhq5yZJf68Re/VYARJk4Kkqs+Wvrzc+L4z3/+sxfli7m6v7//kFfZFX0AUuW5KS+dw4cRMjZWiAKuipDRbYxscmDX+hQbEoTt8V4xUYzoJ56xQOlTouPcmnFgn4uLi7m97B3zWtoXG6MPpTE86xQ+baKgNBkpCW9jpNadQqvYCL5VPlG0FKhOhyHgizY2wUcfSt1WUAaBT+A1wRkdntq1kkSilhUfz3X0Dq18Mf5N8GlcLhg9z23v8O07eDEBioXe6+gTdCrMnMgxK5980+sDoOpZqe0VPgVbgS0ZtI/PpCY///zz7Pn5eXHEEouxw1d6jRgdfDJSR4naeKTsA3iKA4WIvzFRuU/3MUZjVD4VD77gE/dt3vt6Uz6pnqBTGwO7D/DhY44FQMn32EdsuCeROsLGCB+2Y5dy2gY85lSBT4F0+78/DjsWn2Nh+PxvuwvV7btADJ/hM3x9V533+3wM9h0TK5+Vz8rXd9V5PyvfYFVn+Ayf4dvjY9/vfHuc/KHV3/AZvsFOH8Nn+HYDviZS3Tfcd9lNMfafviJtik7ap3EWjeHz1+I2/pcnNQvX8Bk+w1ezwry2j93BKszwGT7D5yP+AwN+5zMQH4Do85QwfIbP8PVZcd5rHO+AGyvf0dHR7OXlZfbw8DA7ODhYVI+e61NOl5eXi76pJh0fcxyafD05OZnHjrZpHH2K59nZ2cqxq9Zq289eJX9ubm4Wn14j99jWds3SuI3gwzjBFY0EQu7Vp3bqAE4JPuU25hVw8DECt67PncDHpkCFIW9vbx8qhEqOz+QIFVPafJeeyRcVVE7E09PTjB/1Mz76F1Xj7u5uoXwlZYuJLfXHdbu61j7kD/syfNgf80iu8Xcb9Vtb+QgMPzI2GxmDoYTlRMQxu3CN/SRFx6R8VzJUkLT4oyKU34xTnHQ6aD2tpbHMZx2NL/XXiBn7fPnyZW5/3F978SwXnGzUmHXbteHTBgrKMgMIOCoQg6q5U2jxL8KX46B+xSnGAThJJG2pPya/1F87fnH/uBc+SNnle+xf97oafBiiwOXErGvkWMZL0XICSFZOhhL4yy+/LECTH8SFI2uX4MO/mEf8i0oo39ZpO4UPg0gMLUbkI2Ydw8Y0NkInBZOyYSf+Thk+iYh8j7lVrjfJV6fwKUmqiHy/iYFjmFOCK8MXVQGb1V9KHHHZpWO35IOEZTTwySAdS2qzKowBqHVsIMARLu7xTX7pXspAq18o2CfOV4zUr3utpURrP91r7XXs3nRstFdrYJ9skk8SGY1Zt+1U+dhcwZwKeMt8IkEKPtf684T8zrCQPPV9+/ZtoXysrxOCftb8+vXrItFjgQ87ow8qHp5v+rMxfJtu6HmbJ2tqsTN8W1Tu1GDo2x/DZ/g2Pja3hdXwGT7Dt20Vef7uvUta+ax8Vj4r1+4p17Y5s/JZ+ax821aR5++eclr5rHxWPivX7inXtjn7pHxDf5Ol9x/+e5S7zEEToIbPXxxZ9YsjDZ8BqwpYk1IaPsNn+JoqxH3TetdTPq18Vj4rn6rB7TRVrpRXK5+Vz8pXqgw/m7YKWvmsfNNSvuPj49nr6+vs8fFxdnh4+Mk5ntHHJ7LOz88/9Q+peLJ9bHYRk9vb2/nPEPG5urpafMLu/f19dnp6+iFvsZ/cE8dVdnaufCRNHwNcBl80dIxJXhW0ofqHgo98RaDIWdM945flPsauU/gEFYZRHSUDqBj6BGgX8LHm8/Pz7I8//lisS6LiXjFYUXllB7YTmKx8rHN9fb1QalU9z/Nc9mMfWgU5AiM7//zzz8XcHKO4LutzH9diPHto7y7ip/VLrWKl+DBGz9hb17GfGJKPGIfS2p3DhxFKYA5sfH5/fz8PYBfBw0mgUKJ0L+BigHStsQQFmwWVbJRdjFMfY7kn8Qo247QP+66CL9qpvbQWa8eYsTZ7LbOFedq7lNxaz2Q3dsVr7acYyy89z22n8GlxGRQDSV9MpJKowGruJm1Oesl5AsGepfXjfNkuu5gT5/E8JpzxqvK4jvaJ81f1a47aVbaU1tPcmi2xVG6j/3FP/B4NfCQtKgbGxaqOhq97nZMg+AQQ65Xgkw3YIXVblXDWVOBZNwY/20H/JvBhKzbpR37EtVi7tB/Pa/5gm2LFPtH/uC+2jgI+waBg5naVkdGp0nVOgvZT0pjDHgSEa1psEERx/pDwYSN2SVlX2RLtLsWl62fYF8Fj/WwjzxT/VXnt5diVMRk63a8yclUQcxK0Xwm+UqXG+TmYWW1qKV/J5lW2RLtXxWjbfuKgoohrye6Yw1KM4xxd9wKfNout1CcCEvvXuc5JUEDi2gSHPXNCda+K1r3mrgOf5ioR2MW6rIE/2U6eaX3ZrLm6p0CX2VJab524tR2LTSXwNB/7Yj/jdapoTKndO/gIAsGS6gKHgkfQBNCyhPM8Bpbx+oUjr804/kzTBj7mClbZdnFxMd9L8wWqEtkHfIqHbIqtCgV7uFZfBFG2ltoq8JU28rO6vwjsYnwNX+XfDncRir5sNnyGr+qfZppANnyGz/A1VYj7pvm+aOWz8ln5rG7TVLemvFr5rHxWvqYKcd80VdHKZ+Wz8lndpqluTXldS/maBrtv/75Dr2bOP31FWs3NvLbhjQwYPn8trr8WN1aEr/dDIa18Vj4rn9VuP9Qu5tnKZ+Wz8sWK8PV+qKCVz8pn5bPa7YfaxTxvrHxHR0ezl5eX2cPDw+zg4GBRPScnJ7O3t7fFp5z4tFMeEw0Y4lq2n52dLexexw58xHfaPK+pL49tc7+trW32yGOISylnNzc3i7ziP7bluevcbwQfxukjdNnIy8vLRd+yMesYWGPstgltAqypr4YvXa+p3Oa8Al58Rp7j/SZ2rA2f4IJ8FC4bgJE8L6nCJgbWmCP4YiVHP0oAMZYf7Mn9ShixUd/d3d2iCOPazNd4ijPHij2+ffs2f07fb7/9NldZ5tSIhdZUTNgT26PN6os28Ozp6WmrPG8EH0GWQdFIjl/upXi0sV+ODt3K9nh0kHTZKoBoZesy+EhIBIg53AtU7UXMWCuPz/fMi3Zpfky8bOqyZZ8vX77MbcRWxWLZHqUYLRu77Pna8GkhBSUaqWcRvjECKDtjQmMw47X8LcH39evXOWjL1slzVZwCMfdzH/fhvmSr5tVq28CX7dzElk7hU9ULSAU7KsMmRnY9h4TmIyMmuQ18+ERhRZXCzqa5cY/oE8kmmTzLSV02J87v+noVfNiY/d7Ehk7hKxmAoSQpqkNpXJ/PuoIPnzIsU4evK/DId6fwkQxAw0AWV9WOUfmo3FgQEZp4raKIkMV+rvFPa8W+PFcnwS4eu7Jdp5p826btFD7BBoDxRzBuY2iXc2WnAqnAyk71CxIBpv4MGON0DOU+7I7gAmksxnwfxzJXtgjuLuOwbK3SsYtditeyees+7xQ+NlewBJ8Stq5hNcdjI+98/ElDdubAkuzYx1j5kgGL8OY+/MhAxbUjiKWxiueQ8OETdioesd3Gro3hqwmH196Pf2ozfP4PC+bv50MUvOEzfIZviMrznsMe71Y+K5+Vzyo0rAoNEX8rn5XPyjdE5XnPYdXWymfls/JZhYZVoSHib+Wz8o1H+Zq+a819+/f9etvmvElRPynftpt5vgGNDBg+fy2uvxY3VoSv90MhrXxWPiuf1W4/1C7m2cpn5bPyxYrw9X6ooJXPymfls9rth9rFPFdRvuPj49nr6+vs8fFxdnh4+KGybm9vF5904joa4+v1ADw9PZ3Hmbav2J2fn6/MaynvJfs6hw/j9PG5bEQET2Ourq56C1wpALv8rG/4lNtSXhEbRId4LgM0x7pT+AAJqDDk/f39Q4UQKJ7JSN1nR7KBY7iXX/iGD1FpUHZ8UDFFNWfc8/Pz7I8//vjQL98VKyUNX3OBxvVy//39fS/Kp5MM39kz5kx9AKdcKSbxmfpi2zl8JEoGRSNVNbumdNitgiFw8V5BFiD5XpCpX/daT+MVE8aVYqYkxn7NzcUQk9vVNfm8uLiYw4Wt0Ub6KDB8036yTX7peW47hU+Ll+DDECqdAEolohOaO7Y2wpZtK/WRBOCijdfMLSWFuAjOvL7iyD7xWuPy+npes83wsVcsCu6xlxyPDj6Bp3bsAAoY2UtgldxSIqISZDi0Vl4jw8e62o+W8XktbIh7yababcln+SWb8Yef0cCnalCgVcl9HBtdJQTbCbBsLiUiApGBUZKWwSfodCwrRmOHL8e35Gcew31vxy6JIGmCTwYqkSXjxvhMdgMKUAgU2RqBi9f0a24JvlJfhC9el/bSs9ptqeDyntnv3K/73uBjQymH5Jl27MduBiwGVsDkgtJ9HIv/Gt8EH8mNY4mRxsfEa62+izfaIIjwVz7LLt1rTKntFT4ZJvjGDp4CRiBlc4SB/uxTDPo68LEW44FJe/EbJjGKa0Zbrq+vF7/cyNbabQm+HIO2ea0CX+0AeP31/iVkrPEyfP4PCxa/vfcNqeEzfIav76rzfsMf3VY+K5+Vz0o0vBL1nQMrn5XPytd31Xm/4ZXWymfls/JZiYZXor5zYOWz8u2G8jWR6r79+wLHmjn/9BVpNTfz2oY3MmD4/M2kjf/BZ4Sl62vDZ/gMX9dV5fXGf8Rb+ax8Vj4r1fiVquscWfmsfFa+rqvK641fSa18Vr7dU76jo6PZy8vL7OHhYXZwcLBw4OTkZPb29rb4dNbl5eWib1fVCJ/wlXYTH25ubmb8MJd45JhtsmbNOWdnZ0Ub8UGfuuvCh42UD+NKRghI9amdAoDbJDvCt806fcxVbjNc+EABkmPsWAboOjauDR8gARWGoHDRSBmuKheMccw6xo1lbFQ+rp+enmbfv38vFiA2M0bqr9NBMYnKxzXrMIaYEj9OEeKlwqXto3iVK+y+u7v7kFf1YZ9yIjvjM/W1bTeCj2DIoAjWMvhixbQ1bEzjMnwkSDApDgJE4CkpOSaMU8y4Zi3m4K8SqrV5lsfUigt+fPnypfhqQB8FJzujrfJ7E7vWhk+bKOgKJM8V+Fi1XMcAa/4utfhFAdHGa/kALAImwrWqvzRWc9SW9lNfrbZkF/7FXKuoRgMfwSBYwAZ0OnL2Cb4IouAgQSU4S0nWHMariPuOX8kuqbJskp+jgk/Bo5XBUzt2pYLyVYngPl6rfx34BJ1UZizKJ1/UKrd6vdDzddoqx24MHFWr+3UMG9PYCEC8lo0RuJJqLOvPY0vvVqX9tG+tNttV2qcLuzqFT9UgaVa7TXWUHO/7WQx0vJYdES69C8tnvRsxhvExsfGavjxX92M4dqOPyrN8UhzWbTuFj81JDsGaCnjySUftKvg0XjFA9fnThRIVgYvXSpxgJX6swT17M1ZjarcluwSc8trFabYxfLUD4PXH/2+z2+bI8PnfdntT1Ayr4TN8hi9Xhe997A5WFYbP8Bk+H8vVGPA7n+GqBteq08vwGT7Dt6pK3D+9d0Arn5XPymdlm56yrcrpJ+Xr+8sDvd+0vzCyCUDD5y+OrPrFkYbPgFUFrOn0MnyGz/A1VYj7pvnuZ+Wz8ln5rG7TVLemvFr5rHxWvqYKcd80VdHKZ+WbjvKdn58vPp3Gp5m4l3IdHh7OHh8fF/23t7eLPo3Z1/bq6moeG2LUNgbHx8ez19fXDzFuO3ebceSUPJZsxY+2ee1U+TJ4wPf+/j47PT2dGxrB08fsMHabQExl7ibwDeG7clyCDx/I6yDwsWlUO91jFAACoozO90MEcsg9pVoq0Pv7+3lsfv75509qRhxjQokd40tja/kke8mhbJXyKZeoMPmNtjbZ05ny6UjFAAxlU1UC1aKK4Rl9pfFNhk6pT4lULJQ8FSbJU5/Gqk9xpV99xLZ2fNjr4uJikddoD/b/+uuv875cKE12dQZf3kSBEYwEiypXUAWfjuU8f8r3wKK4yE/iooTSr2sSyzU/XBM3lIdrxbgP+GQnbbQ1Pud6cPgUlAiW4fvfn0tKycvAPT8/z+FiLD8klTFAB3xAqDgbvv//JwsFJIJHRRCgkvJlBciVNMX7VfDpVCBmgi5eM5+4KNaGLwQjg0egqFiex+Mk3k8RsmU+AUsuugwk93/++ec8XkAmxQNGrg1f+gMtgUHd8g+BVDWX+pYlaarPFQspWC5M/AZQYqVilcrp3vAF+BScDBf3CrKCrjHAOlXAVvkV44UKSuWIUQRLseMZ8Yox0xo+dgOIqwLv/v/98rHPsaj2p5Z9Dqp9b1dchs+KPdirj+EzfIbPR1W7o2pKcbLyWfmsfFOqaPvSTsWtfFY+K5/Vop1aTClOVj4rn5VvShVtX9qp+FrK1zTYffv3HXo1c/7pK9Jqbua1DW9kwPD5a3H9tbixIny9Hwpp5bPyWfmsdvuhdjHPVj4rn5UvVoSv90MFrXxWPiuf1W4/1C7meSPlOzs7+/DRSe7jolxrzOXl5ae+PHbf74+OjmYvLy/zmI0hFuTu4eFhdnBw8CF3Nzc3i7xjL3ZvY+/a8AkqfTSS9u3tbXZycrIwJBpp+HZL0ZTfDB95jMBxn8esC+La8AksjGQz3WMMlYJBAPn09DRv9xU+JVFFqngpZt++fZsXLYX722+/fVA+KaHmEuN1E7vueO2JPXd3d5/AwoZoB2JDjrdRv7XgE1y5AggSwaUfwzFMwd9H+PA9xoh4cK/TgSTGfiVeMaSAFTfFXPfrQtV2PDZ8+fJlDjl7ZVXjWbS5NKbtXhq3FnyapFZBi0apb1/hEyz4r1jQkiwpR1YRxZE5/JTiGdeqfb0MLOUUsZEv29iyMXwKWH7fkzEyFEf0bB9axUVHZmyVsCb4liW+z9iVbMDmqIaM2bZINoJPAV4GHoHad/jwfxkwuwaf8h19ksJvIy5rwydDmsDbZ/jaJKUJPhK8raIsg77t86x8yvng8BG4eJToOlcAhtKXn7cNwC6Pw/dYnBnIJvjyWOKQx9eOTYZPNgx67KoCBFxsM2T7DB/JIh7L4pNhUlylLLrX/Jj02uDJ9tKeUXhicW1q09rH7qYbed5u/bG5j3wZPv+HBUt/MaoNoOEzfIavdpV5/fEd+1Y+K5+Vz8o0PmWqnRMrn5XPyle7yrz++JTVymfls/JZmcanTLVz8v8AOoyh5JHOqOIAAAAASUVORK5CYII=)"
      ]
    }
  ]
}